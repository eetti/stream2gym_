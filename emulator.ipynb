{
 "cells": [
  {
   "cell_type": "code",
   "execution_count": 1,
   "metadata": {},
   "outputs": [
    {
     "ename": "ModuleNotFoundError",
     "evalue": "No module named 'pandas'",
     "output_type": "error",
     "traceback": [
      "\u001b[0;31m---------------------------------------------------------------------------\u001b[0m",
      "\u001b[0;31mModuleNotFoundError\u001b[0m                       Traceback (most recent call last)",
      "Cell \u001b[0;32mIn[1], line 1\u001b[0m\n\u001b[0;32m----> 1\u001b[0m \u001b[38;5;28;01mimport\u001b[39;00m \u001b[38;5;21;01mpandas\u001b[39;00m \u001b[38;5;28;01mas\u001b[39;00m \u001b[38;5;21;01mpd\u001b[39;00m\n\u001b[1;32m      2\u001b[0m \u001b[38;5;28;01mimport\u001b[39;00m \u001b[38;5;21;01mnumpy\u001b[39;00m \u001b[38;5;28;01mas\u001b[39;00m \u001b[38;5;21;01mnp\u001b[39;00m\n\u001b[1;32m      3\u001b[0m \u001b[38;5;28;01mimport\u001b[39;00m \u001b[38;5;21;01mmath\u001b[39;00m\n",
      "\u001b[0;31mModuleNotFoundError\u001b[0m: No module named 'pandas'"
     ]
    }
   ],
   "source": [
    "import pandas as pd\n",
    "import numpy as np\n",
    "import math\n",
    "import matplotlib.pyplot as plt\n",
    "import seaborn as sns"
   ]
  },
  {
   "cell_type": "code",
   "execution_count": null,
   "metadata": {
    "tags": []
   },
   "outputs": [],
   "source": [
    "schedule = pd.read_csv('processed/schedule.csv', index_col=0)\n",
    "states = pd.read_csv('processed/states.csv', index_col=0)"
   ]
  },
  {
   "cell_type": "code",
   "execution_count": null,
   "metadata": {},
   "outputs": [],
   "source": [
    "df = pd.concat([states, schedule], axis=1)\n",
    "df.corr()[schedule.columns]"
   ]
  },
  {
   "cell_type": "code",
   "execution_count": null,
   "metadata": {},
   "outputs": [],
   "source": [
    "# Construct env prediction model using RF or GB\n",
    "from sklearn.preprocessing import MinMaxScaler\n",
    "from sklearn.ensemble import RandomForestRegressor\n",
    "from sklearn.ensemble import GradientBoostingRegressor\n",
    "from sklearn.model_selection import cross_val_score\n",
    "from sklearn.model_selection import RepeatedKFold\n",
    "from sklearn.model_selection import train_test_split\n",
    "from sklearn.metrics import mean_squared_error, median_absolute_error, mean_squared_log_error, mean_absolute_error, explained_variance_score, r2_score\n",
    "import joblib\n",
    "import autosklearn.regression\n",
    "\n",
    "w = 6\n",
    "h = 4\n",
    "ncols = 4\n",
    "nrows = math.ceil(states.shape[1]/ncols)\n",
    "fig, ax = plt.subplots(nrows=nrows, ncols=ncols, figsize=(w*ncols, h*nrows))\n",
    "fig.tight_layout(pad=6)\n",
    "\n",
    "# build regression model for every column\n",
    "for i, col in enumerate(states.columns):\n",
    "    y = states[col].to_frame()\n",
    "    y = y[y[col] != 'None']\n",
    "    X =schedule.loc[y.index]\n",
    "\n",
    "    X_train, X_test, y_train, y_test = train_test_split(X, y, test_size=0.2, random_state=10000)\n",
    "    scaler = MinMaxScaler().fit(X_train)\n",
    "    X_train = pd.DataFrame(scaler.transform(X_train), columns=X_train.columns, index=X_train.index)\n",
    "    X_test = pd.DataFrame(scaler.transform(X_test), columns=X_test.columns, index=X_test.index) \n",
    "\n",
    "    scaler = MinMaxScaler().fit(y_train)\n",
    "    y_train = pd.DataFrame(scaler.transform(y_train), columns=y_train.columns, index=y_train.index)\n",
    "    y_test = pd.DataFrame(scaler.transform(y_test), columns=y_test.columns, index=y_test.index)\n",
    "\n",
    "    y_train.to_csv('tmp/%s-train.csv' % col)\n",
    "    y_test.to_csv('tmp/%s-test.csv' % col)\n",
    "\n",
    "    # choose the best model from RF and GB\n",
    "    # rf = RandomForestRegressor(random_state=1000)\n",
    "    # gb = GradientBoostingRegressor(random_state=1000)\n",
    "    # models = [gb, rf]\n",
    "    # for model in models:\n",
    "    #     # define the evaluation procedure\n",
    "    #     cv = RepeatedKFold(n_splits=5, n_repeats=10, random_state=1000)\n",
    "    #     n_scores = cross_val_score(model, X_train, y_train, scoring='r2', cv=cv, n_jobs=-1)\n",
    "    #     if np.mean(n_scores) > best_score:\n",
    "    #         best_model = model\n",
    "    #         best_score = np.mean(n_scores)\n",
    "    #         best_model.fit(X=X_train, y=y_train.to_numpy().squeeze())\n",
    "    #         joblib.dump(best_model, './models/%s.joblib' % col)\n",
    "    #     print('%s: %.3f (%.3f)' % (col, np.mean(n_scores), np.std(n_scores)))\n",
    "    \n",
    "    # y_predict = best_model.predict(X_test)\n",
    "    \n",
    "    automl = autosklearn.regression.AutoSklearnRegressor(\n",
    "        time_left_for_this_task=120,\n",
    "        per_run_time_limit=30,\n",
    "        tmp_folder='./autosklearn_regression_tmp',\n",
    "        output_folder='./autosklearn_regression_out',\n",
    "    )\n",
    "    automl.fit(X_train, y_train, dataset_name=col)\n",
    "\n",
    "    y_predict = automl.predict(X_test)\n",
    "    r = int(i/ncols)\n",
    "    c = int(i%ncols)\n",
    "    ax[r][c].set_xlim(0, 1)\n",
    "    ax[r][c].set_ylim(0, 1)\n",
    "    ax[r][c].set_title(col)\n",
    "    ax[r][c].set_xlabel('Observed Value')\n",
    "    ax[r][c].set_ylabel('Predicted Value')\n",
    "    ax[r][c].grid()\n",
    "    ax[r][c].scatter(y_test, y_predict)\n",
    "\n",
    "plt.savefig('results.png', dpi=300)"
   ]
  }
 ],
 "metadata": {
  "kernelspec": {
   "display_name": "baseline",
   "language": "python",
   "name": "python3"
  },
  "language_info": {
   "codemirror_mode": {
    "name": "ipython",
    "version": 3
   },
   "file_extension": ".py",
   "mimetype": "text/x-python",
   "name": "python",
   "nbconvert_exporter": "python",
   "pygments_lexer": "ipython3",
   "version": "3.12.6"
  },
  "metadata": {
   "interpreter": {
    "hash": "aee8b7b246df8f9039afb4144a1f6fd8d2ca17a180786b69acc140d282b71a49"
   }
  },
  "orig_nbformat": 2
 },
 "nbformat": 4,
 "nbformat_minor": 2
}
